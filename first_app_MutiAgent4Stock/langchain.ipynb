{
 "cells": [
  {
   "cell_type": "code",
   "execution_count": null,
   "metadata": {},
   "outputs": [],
   "source": [
    "pip install langchain_openai"
   ]
  },
  {
   "cell_type": "code",
   "execution_count": 1,
   "metadata": {},
   "outputs": [
    {
     "data": {
      "text/plain": [
       "True"
      ]
     },
     "execution_count": 1,
     "metadata": {},
     "output_type": "execute_result"
    }
   ],
   "source": [
    "import os\n",
    "\n",
    "from dotenv import load_dotenv, find_dotenv\n",
    "\n",
    "load_dotenv(find_dotenv(), override=True)"
   ]
  },
  {
   "cell_type": "code",
   "execution_count": 2,
   "metadata": {},
   "outputs": [],
   "source": [
    "# from langchain_openai import OpenAIEmbeddings\n",
    "\n",
    "# embeddings = OpenAIEmbeddings(\n",
    "#     base_url=os.environ['EMBEDDINGS_BASE_URL']\n",
    "# )"
   ]
  },
  {
   "cell_type": "code",
   "execution_count": 2,
   "metadata": {},
   "outputs": [
    {
     "name": "stderr",
     "output_type": "stream",
     "text": [
      "/var/folders/px/22qqx_qn399gggmw1gsvgk000000gn/T/ipykernel_46523/1596289383.py:2: LangChainDeprecationWarning: The class `Ollama` was deprecated in LangChain 0.3.1 and will be removed in 1.0.0. An updated version of the class exists in the :class:`~langchain-ollama package and should be used instead. To use it run `pip install -U :class:`~langchain-ollama` and import as `from :class:`~langchain_ollama import OllamaLLM``.\n",
      "  chat = Ollama(model=\"llama3.2:latest\", temperature=0.1)\n"
     ]
    }
   ],
   "source": [
    "from langchain.llms import Ollama\n",
    "chat = Ollama(model=\"llama3.2:latest\", temperature=0.1)"
   ]
  },
  {
   "cell_type": "code",
   "execution_count": 3,
   "metadata": {},
   "outputs": [],
   "source": [
    "from langchain_core.prompts import PromptTemplate\n",
    "\n",
    "prompt_template = PromptTemplate.from_template(\n",
    "    \"請回答以下提問: \\n{query}\"\n",
    ")"
   ]
  },
  {
   "cell_type": "code",
   "execution_count": 4,
   "metadata": {},
   "outputs": [],
   "source": [
    "from langchain.schema.output_parser import StrOutputParser\n",
    "output_parser = StrOutputParser()"
   ]
  },
  {
   "cell_type": "code",
   "execution_count": 5,
   "metadata": {},
   "outputs": [
    {
     "name": "stderr",
     "output_type": "stream",
     "text": [
      "/var/folders/px/22qqx_qn399gggmw1gsvgk000000gn/T/ipykernel_46523/1852833169.py:3: LangChainDeprecationWarning: The class `LLMChain` was deprecated in LangChain 0.1.17 and will be removed in 1.0. Use :meth:`~RunnableSequence, e.g., `prompt | llm`` instead.\n",
      "  chain = LLMChain(\n"
     ]
    },
    {
     "name": "stdout",
     "output_type": "stream",
     "text": [
      "答案：生成式人工智能（Generative AI）是一種人工智能技術，能夠創建新的內容或資料，例如圖像、音頻、文本等。它通過使用神經網路和其他算法來學習和模仿已有的資料，從而產生出類似原材料的新資料。\n"
     ]
    }
   ],
   "source": [
    "from langchain.chains import LLMChain\n",
    "\n",
    "chain = LLMChain(\n",
    "    llm=chat,\n",
    "    prompt=prompt_template,\n",
    "    output_parser=output_parser\n",
    ")\n",
    "\n",
    "output = chain.invoke({\"query\": \"生成式人工智能是什麼？\"})\n",
    "print(output[\"text\"])"
   ]
  },
  {
   "cell_type": "code",
   "execution_count": 6,
   "metadata": {},
   "outputs": [
    {
     "name": "stdout",
     "output_type": "stream",
     "text": [
      "答案：我不知道現在的時間。\n"
     ]
    }
   ],
   "source": [
    "chain = prompt_template | chat | output_parser #LCEL\n",
    "\n",
    "output = chain.invoke({\"query:\" \"現在幾點？\"})\n",
    "\n",
    "print(output)"
   ]
  },
  {
   "cell_type": "code",
   "execution_count": 7,
   "metadata": {},
   "outputs": [],
   "source": [
    "import datetime\n",
    "from langchain.agents import tool\n",
    "\n",
    "@tool\n",
    "def check_time(format:str = \"%Y-%m-%d %H:%M:%S\"):\n",
    "    \"\"\"根據指定的格式返回當前日期和時間\"\"\"\n",
    "\n",
    "    current_time = datetime.datetime.now()\n",
    "\n",
    "    formatted_time = current_time.strftime(format)\n",
    "\n",
    "    return formatted_time"
   ]
  },
  {
   "cell_type": "code",
   "execution_count": 8,
   "metadata": {},
   "outputs": [
    {
     "name": "stderr",
     "output_type": "stream",
     "text": [
      "/opt/homebrew/lib/python3.10/site-packages/langsmith/client.py:241: LangSmithMissingAPIKeyWarning: API key must be provided when using hosted LangSmith API\n",
      "  warnings.warn(\n"
     ]
    },
    {
     "name": "stdout",
     "output_type": "stream",
     "text": [
      "\n",
      "\n",
      "\u001b[1m> Entering new AgentExecutor chain...\u001b[0m\n",
      "\u001b[32;1m\u001b[1;3mAction: check_time\n",
      "Action Input: '%Y-%m-%d %H:%M:%S'\u001b[0m\u001b[36;1m\u001b[1;3m'2025-01-06 11:38:00'\u001b[0m\u001b[32;1m\u001b[1;3mQuestion: 現在幾點？\n",
      "\n",
      "Thought: Action: check_time\n",
      "Action Input: '%Y-%m-%d %H:%M:%S'\n",
      "\u001b[0m\u001b[36;1m\u001b[1;3m'2025-01-06 11:38:00'\n",
      "\u001b[0m\u001b[32;1m\u001b[1;3mQuestion: 現在幾點？\n",
      "\n",
      "Thought: Action: check_time\n",
      "Action Input: '%Y-%m-%d %H:%M:%S'\u001b[0m\u001b[36;1m\u001b[1;3m'2025-01-06 11:38:01'\u001b[0m\u001b[32;1m\u001b[1;3mQuestion: 現在幾點？\n",
      "Thought: Action: check_time\n",
      "Action Input: '%Y-%m-%d %H:%M:%S'\u001b[0m\u001b[36;1m\u001b[1;3m'2025-01-06 11:38:01'\u001b[0m\u001b[32;1m\u001b[1;3mQuestion: 現在幾點？\n",
      "\n",
      "Thought: Action: check_time\n",
      "Action Input: '%Y-%m-%d %H:%M:%S'\n",
      "\u001b[0m\u001b[36;1m\u001b[1;3m'2025-01-06 11:38:01'\n",
      "\u001b[0m\u001b[32;1m\u001b[1;3mQuestion: 現在幾點？\n",
      "\n",
      "Thought: Action: check_time\n",
      "Action Input: '%Y-%m-%d %H:%M:%S'\u001b[0m\u001b[36;1m\u001b[1;3m'2025-01-06 11:38:02'\u001b[0m\u001b[32;1m\u001b[1;3mQuestion: 現在幾點？\n",
      "Thought: Action: check_time\n",
      "Action Input: '%Y-%m-%d %H:%M:%S'\u001b[0m\u001b[36;1m\u001b[1;3m'2025-01-06 11:38:02'\u001b[0m\u001b[32;1m\u001b[1;3mQuestion: 現在幾點？\n",
      "\n",
      "Thought: Action: check_time\n",
      "Action Input: '%Y-%m-%d %H:%M:%S'\n",
      "\u001b[0m\u001b[36;1m\u001b[1;3m'2025-01-06 11:38:03'\n",
      "\u001b[0m\u001b[32;1m\u001b[1;3mQuestion: 現在幾點？\n",
      "Thought: Action: check_time\n",
      "Action Input: '%Y-%m-%d %H:%M:%S'\u001b[0m\u001b[36;1m\u001b[1;3m'2025-01-06 11:38:03'\u001b[0m\u001b[32;1m\u001b[1;3mQuestion: 現在幾點？\n",
      "\n",
      "Thought: Action: check_time\n",
      "Action Input: '%Y-%m-%d %H:%M:%S'\n",
      "\u001b[0m\u001b[36;1m\u001b[1;3m'2025-01-06 11:38:03'\n",
      "\u001b[0m\u001b[32;1m\u001b[1;3mQuestion: 現在幾點？\n",
      "Thought: Action: check_time\n",
      "Action Input: '%Y-%m-%d %H:%M:%S'\u001b[0m\u001b[36;1m\u001b[1;3m'2025-01-06 11:38:04'\u001b[0m\u001b[32;1m\u001b[1;3mQuestion: 現在幾點？\n",
      "\n",
      "Thought: Action: check_time\n",
      "Action Input: '%Y-%m-%d %H:%M:%S'\n",
      "\u001b[0m\u001b[36;1m\u001b[1;3m'2025-01-06 11:38:04'\n",
      "\u001b[0m\u001b[32;1m\u001b[1;3mQuestion: 現在幾點？\n",
      "Thought: Action: check_time\n",
      "Action Input: '%Y-%m-%d %H:%M:%S'\u001b[0m\u001b[36;1m\u001b[1;3m'2025-01-06 11:38:04'\u001b[0m\u001b[32;1m\u001b[1;3mQuestion: 現在幾點？\n",
      "\n",
      "Thought: Action: check_time\n",
      "Action Input: '%Y-%m-%d %H:%M:%S'\n",
      "\u001b[0m\u001b[36;1m\u001b[1;3m'2025-01-06 11:38:05'\n",
      "\u001b[0m\u001b[32;1m\u001b[1;3mQuestion: 現在幾點？\n",
      "Thought: Action: check_time\n",
      "Action Input: '%Y-%m-%d %H:%M:%S'\u001b[0m\u001b[36;1m\u001b[1;3m'2025-01-06 11:38:05'\u001b[0m\u001b[32;1m\u001b[1;3m\u001b[0m\n",
      "\n",
      "\u001b[1m> Finished chain.\u001b[0m\n"
     ]
    },
    {
     "data": {
      "text/plain": [
       "{'input': '現在幾點？',\n",
       " 'output': 'Agent stopped due to iteration limit or time limit.'}"
      ]
     },
     "execution_count": 8,
     "metadata": {},
     "output_type": "execute_result"
    }
   ],
   "source": [
    "from langchain.agents import create_react_agent, AgentExecutor\n",
    "from langchain import hub\n",
    "prompt_template = hub.pull(\"aixgeek/react4chinese\")\n",
    "\n",
    "tools = [check_time]\n",
    "\n",
    "agent = create_react_agent(\n",
    "    llm=chat,\n",
    "    tools=tools,\n",
    "    prompt=prompt_template\n",
    ")\n",
    "\n",
    "agent_executor = AgentExecutor(\n",
    "    llm=chat,\n",
    "    agent=agent,\n",
    "    tools=tools,\n",
    "    handle_parsing_errors=True,\n",
    "    verbose=True\n",
    ")\n",
    "\n",
    "agent_executor.invoke({\"input\": \"現在幾點？\"})"
   ]
  },
  {
   "cell_type": "code",
   "execution_count": 9,
   "metadata": {},
   "outputs": [
    {
     "name": "stderr",
     "output_type": "stream",
     "text": [
      "/opt/homebrew/lib/python3.10/site-packages/langsmith/client.py:241: LangSmithMissingAPIKeyWarning: API key must be provided when using hosted LangSmith API\n",
      "  warnings.warn(\n"
     ]
    }
   ],
   "source": [
    "from langchain.tools import WikipediaQueryRun\n",
    "from langchain_community.utilities import WikipediaAPIWrapper\n",
    "from langchain.agents import create_react_agent,AgentExecutor\n",
    "from langchain import hub\n",
    "prompt = hub.pull(\"aixgeek/react4chinese\")"
   ]
  },
  {
   "cell_type": "code",
   "execution_count": null,
   "metadata": {},
   "outputs": [],
   "source": [
    "pip install wikipedia"
   ]
  },
  {
   "cell_type": "code",
   "execution_count": 12,
   "metadata": {},
   "outputs": [],
   "source": [
    "api_wrapper = WikipediaAPIWrapper(\n",
    "    top_k_results=1,\n",
    "    doc_content_chars_max=500\n",
    ")\n",
    "wiki_tool=WikipediaQueryRun(\n",
    "    api_wrapper=api_wrapper\n",
    ")\n",
    "tools = [wiki_tool]"
   ]
  },
  {
   "cell_type": "code",
   "execution_count": 13,
   "metadata": {},
   "outputs": [],
   "source": [
    "agent = create_react_agent(\n",
    "    llm = chat,\n",
    "    tools = tools,\n",
    "    prompt=prompt\n",
    ")\n",
    "agent_executor = AgentExecutor(\n",
    "    agent=agent,\n",
    "    handle_parsing_errors=True,\n",
    "    verbose=True,\n",
    "    tools=tools\n",
    ")"
   ]
  },
  {
   "cell_type": "code",
   "execution_count": 14,
   "metadata": {},
   "outputs": [
    {
     "name": "stdout",
     "output_type": "stream",
     "text": [
      "\n",
      "\n",
      "\u001b[1m> Entering new AgentExecutor chain...\u001b[0m\n",
      "\u001b[32;1m\u001b[1;3mQuestion: 目前台灣總統是誰？\n",
      "\n",
      "Thought: 我們需要查找目前台湾的总统。\n",
      "\n",
      "Action: wikipedia\n",
      "Action Input: \"台湾总统\"\u001b[0m\u001b[36;1m\u001b[1;3mPage: President of the Republic of China\n",
      "Summary: The president of the Republic of China, also known as the president of Taiwan, is the head of state of the Republic of China, commonly known as Taiwan, as well as the commander-in-chief of the Republic of China Armed Forces. Before 1949 the position had the authority of ruling over Mainland China, but after communist victory in the Chinese Civil War, the remaining jurisdictions of the ROC have been limited to Taiwan, Penghu, Kinmen, Matsu, and sm\u001b[0m\u001b[32;1m\u001b[1;3mQuestion: 目前台灣總統是誰？\n",
      "\n",
      "Thought: 我們需要查找目前台湾的总统。\n",
      "\n",
      "Action: wikipedia\n",
      "Action Input: \"台湾总统\"\u001b[0m\u001b[36;1m\u001b[1;3mPage: President of the Republic of China\n",
      "Summary: The president of the Republic of China, also known as the president of Taiwan, is the head of state of the Republic of China, commonly known as Taiwan, as well as the commander-in-chief of the Republic of China Armed Forces. Before 1949 the position had the authority of ruling over Mainland China, but after communist victory in the Chinese Civil War, the remaining jurisdictions of the ROC have been limited to Taiwan, Penghu, Kinmen, Matsu, and sm\u001b[0m\u001b[32;1m\u001b[1;3mQuestion: 目前台灣總統是誰？\n",
      "\n",
      "Thought: 我們需要查找目前台湾的总统。\n",
      "\n",
      "Action: wikipedia\n",
      "Action Input: \"台湾总统\"\u001b[0m\u001b[36;1m\u001b[1;3mPage: President of the Republic of China\n",
      "Summary: The president of the Republic of China, also known as the president of Taiwan, is the head of state of the Republic of China, commonly known as Taiwan, as well as the commander-in-chief of the Republic of China Armed Forces. Before 1949 the position had the authority of ruling over Mainland China, but after communist victory in the Chinese Civil War, the remaining jurisdictions of the ROC have been limited to Taiwan, Penghu, Kinmen, Matsu, and sm\u001b[0m\u001b[32;1m\u001b[1;3mQuestion: 目前台灣總統是誰？\n",
      "\n",
      "Thought: 我們需要查找目前台湾的总统。\n",
      "\n",
      "Action: wikipedia\n",
      "Action Input: \"台湾总统\"\u001b[0m\u001b[36;1m\u001b[1;3mPage: President of the Republic of China\n",
      "Summary: The president of the Republic of China, also known as the president of Taiwan, is the head of state of the Republic of China, commonly known as Taiwan, as well as the commander-in-chief of the Republic of China Armed Forces. Before 1949 the position had the authority of ruling over Mainland China, but after communist victory in the Chinese Civil War, the remaining jurisdictions of the ROC have been limited to Taiwan, Penghu, Kinmen, Matsu, and sm\u001b[0m\u001b[32;1m\u001b[1;3mQuestion: 目前台灣總統是誰？\n",
      "\n",
      "Thought: 我們需要查找目前台湾的总统。\n",
      "\n",
      "Action: wikipedia\n",
      "Action Input: \"台湾总统\"\u001b[0m\u001b[36;1m\u001b[1;3mPage: President of the Republic of China\n",
      "Summary: The president of the Republic of China, also known as the president of Taiwan, is the head of state of the Republic of China, commonly known as Taiwan, as well as the commander-in-chief of the Republic of China Armed Forces. Before 1949 the position had the authority of ruling over Mainland China, but after communist victory in the Chinese Civil War, the remaining jurisdictions of the ROC have been limited to Taiwan, Penghu, Kinmen, Matsu, and sm\u001b[0m\u001b[32;1m\u001b[1;3mQuestion: 目前台灣總統是誰？\n",
      "\n",
      "Thought: 我們需要查找目前台湾的总统。\n",
      "\n",
      "Action: wikipedia\n",
      "Action Input: \"蔡英文\"\u001b[0m\u001b[36;1m\u001b[1;3mPage: Tsai Ing-wen\n",
      "Summary: Tsai Ing-wen (Chinese: 蔡英文; born 31 August 1956) is a Taiwanese retired politician who served as the 7th president of the Republic of China (Taiwan) from 2016 to 2024, and was the first woman to hold that position. A member of the Democratic Progressive Party (DPP), she intermittently served as chair of the DPP from 2008 to 2012, 2014 to 2018, and 2020 to 2022. \n",
      "Tsai was born and raised in Taipei and studied law and international trade, and later became a law professo\u001b[0m\u001b[32;1m\u001b[1;3mQuestion: 目前台灣總統是誰？\n",
      "\n",
      "Thought: 我們需要查找目前台湾的总统。\n",
      "\n",
      "Action: wikipedia\n",
      "Action Input: \"蔡英文\"\u001b[0m\u001b[36;1m\u001b[1;3mPage: Tsai Ing-wen\n",
      "Summary: Tsai Ing-wen (Chinese: 蔡英文; born 31 August 1956) is a Taiwanese retired politician who served as the 7th president of the Republic of China (Taiwan) from 2016 to 2024, and was the first woman to hold that position. A member of the Democratic Progressive Party (DPP), she intermittently served as chair of the DPP from 2008 to 2012, 2014 to 2018, and 2020 to 2022. \n",
      "Tsai was born and raised in Taipei and studied law and international trade, and later became a law professo\u001b[0m\u001b[32;1m\u001b[1;3mQuestion: 目前台灣總統是誰？\n",
      "\n",
      "Thought: 我們需要查找目前台湾的总统。\n",
      "\n",
      "Action: wikipedia\n",
      "Action Input: \"蔡英文\"\u001b[0m\u001b[36;1m\u001b[1;3mPage: Tsai Ing-wen\n",
      "Summary: Tsai Ing-wen (Chinese: 蔡英文; born 31 August 1956) is a Taiwanese retired politician who served as the 7th president of the Republic of China (Taiwan) from 2016 to 2024, and was the first woman to hold that position. A member of the Democratic Progressive Party (DPP), she intermittently served as chair of the DPP from 2008 to 2012, 2014 to 2018, and 2020 to 2022. \n",
      "Tsai was born and raised in Taipei and studied law and international trade, and later became a law professo\u001b[0m\u001b[32;1m\u001b[1;3mFinal Answer: 蔡英文\u001b[0m\n",
      "\n",
      "\u001b[1m> Finished chain.\u001b[0m\n"
     ]
    },
    {
     "data": {
      "text/plain": [
       "{'input': '目前台灣總統是誰？', 'output': '蔡英文'}"
      ]
     },
     "execution_count": 14,
     "metadata": {},
     "output_type": "execute_result"
    }
   ],
   "source": [
    "input = \"目前台灣總統是誰？\"\n",
    "agent_executor.invoke({\"input\":input})"
   ]
  },
  {
   "cell_type": "code",
   "execution_count": 15,
   "metadata": {},
   "outputs": [],
   "source": [
    "from langchain_openai import ChatOpenAI\n",
    "chat = ChatOpenAI(\n",
    "\n",
    "    openai_api_key=os.environ[\"OPENAI_API_KEY\"],\n",
    "    temperature=0.1\n",
    ")"
   ]
  },
  {
   "cell_type": "code",
   "execution_count": 18,
   "metadata": {},
   "outputs": [],
   "source": [
    "from crewai import Agent,Task,Crew,Process"
   ]
  },
  {
   "cell_type": "code",
   "execution_count": 21,
   "metadata": {},
   "outputs": [
    {
     "ename": "ValidationError",
     "evalue": "1 validation error for Task\nexpected_output\n  Field required [type=missing, input_value={'description': '分析...的市場調研助理)}, input_type=dict]\n    For further information visit https://errors.pydantic.dev/2.10/v/missing",
     "output_type": "error",
     "traceback": [
      "\u001b[0;31m---------------------------------------------------------------------------\u001b[0m",
      "\u001b[0;31mValidationError\u001b[0m                           Traceback (most recent call last)",
      "Cell \u001b[0;32mIn[21], line 16\u001b[0m\n\u001b[1;32m      2\u001b[0m researcher \u001b[38;5;241m=\u001b[39m Agent(\n\u001b[1;32m      3\u001b[0m     role \u001b[38;5;241m=\u001b[39m \u001b[38;5;124m\"\u001b[39m\u001b[38;5;124m市場搜尋官\u001b[39m\u001b[38;5;124m\"\u001b[39m,\n\u001b[1;32m      4\u001b[0m     goal\u001b[38;5;241m=\u001b[39m\u001b[38;5;124m'\u001b[39m\u001b[38;5;124m搜索關於美食訊息\u001b[39m\u001b[38;5;124m'\u001b[39m,\n\u001b[0;32m   (...)\u001b[0m\n\u001b[1;32m      7\u001b[0m     verbose\u001b[38;5;241m=\u001b[39m\u001b[38;5;28;01mTrue\u001b[39;00m\n\u001b[1;32m      8\u001b[0m )\n\u001b[1;32m      9\u001b[0m analyst \u001b[38;5;241m=\u001b[39m Agent(\n\u001b[1;32m     10\u001b[0m     role \u001b[38;5;241m=\u001b[39m \u001b[38;5;124m\"\u001b[39m\u001b[38;5;124m市場分析員\u001b[39m\u001b[38;5;124m\"\u001b[39m,\n\u001b[1;32m     11\u001b[0m     goal\u001b[38;5;241m=\u001b[39m\u001b[38;5;124m'\u001b[39m\u001b[38;5;124m分析市面哪些美食最受歡迎\u001b[39m\u001b[38;5;124m'\u001b[39m,\n\u001b[0;32m   (...)\u001b[0m\n\u001b[1;32m     14\u001b[0m     verbose\u001b[38;5;241m=\u001b[39m\u001b[38;5;28;01mTrue\u001b[39;00m\n\u001b[1;32m     15\u001b[0m )\n\u001b[0;32m---> 16\u001b[0m task1 \u001b[38;5;241m=\u001b[39m \u001b[43mTask\u001b[49m\u001b[43m(\u001b[49m\n\u001b[1;32m     17\u001b[0m \u001b[43m    \u001b[49m\u001b[43mdescription\u001b[49m\u001b[43m \u001b[49m\u001b[38;5;241;43m=\u001b[39;49m\u001b[43m \u001b[49m\u001b[38;5;124;43m\"\u001b[39;49m\u001b[38;5;124;43m分析最新市場上最受歡迎的美食\u001b[39;49m\u001b[38;5;124;43m\"\u001b[39;49m\u001b[43m,\u001b[49m\n\u001b[1;32m     18\u001b[0m \u001b[43m    \u001b[49m\u001b[43magent\u001b[49m\u001b[43m \u001b[49m\u001b[38;5;241;43m=\u001b[39;49m\u001b[43m \u001b[49m\u001b[43mresearcher\u001b[49m\n\u001b[1;32m     19\u001b[0m \u001b[43m)\u001b[49m\n\u001b[1;32m     20\u001b[0m task2 \u001b[38;5;241m=\u001b[39m Task(\n\u001b[1;32m     21\u001b[0m     description \u001b[38;5;241m=\u001b[39m \u001b[38;5;124m\"\u001b[39m\u001b[38;5;124m寫一份完美的市場分析，分析哪些美食最受歡迎.\u001b[39m\u001b[38;5;124m\"\u001b[39m,\n\u001b[1;32m     22\u001b[0m     agent \u001b[38;5;241m=\u001b[39m analyst\n\u001b[1;32m     23\u001b[0m )\n\u001b[1;32m     25\u001b[0m crew \u001b[38;5;241m=\u001b[39m Crew(\n\u001b[1;32m     26\u001b[0m     agents\u001b[38;5;241m=\u001b[39m[researcher,analyst],\n\u001b[1;32m     27\u001b[0m     task\u001b[38;5;241m=\u001b[39m[task1,task2],\n\u001b[1;32m     28\u001b[0m     process\u001b[38;5;241m=\u001b[39mProcess\u001b[38;5;241m.\u001b[39msequential,\n\u001b[1;32m     29\u001b[0m     verbose\u001b[38;5;241m=\u001b[39m\u001b[38;5;241m2\u001b[39m\n\u001b[1;32m     30\u001b[0m )\n",
      "File \u001b[0;32m/opt/homebrew/lib/python3.10/site-packages/pydantic/main.py:214\u001b[0m, in \u001b[0;36mBaseModel.__init__\u001b[0;34m(self, **data)\u001b[0m\n\u001b[1;32m    212\u001b[0m \u001b[38;5;66;03m# `__tracebackhide__` tells pytest and some other tools to omit this function from tracebacks\u001b[39;00m\n\u001b[1;32m    213\u001b[0m __tracebackhide__ \u001b[38;5;241m=\u001b[39m \u001b[38;5;28;01mTrue\u001b[39;00m\n\u001b[0;32m--> 214\u001b[0m validated_self \u001b[38;5;241m=\u001b[39m \u001b[38;5;28;43mself\u001b[39;49m\u001b[38;5;241;43m.\u001b[39;49m\u001b[43m__pydantic_validator__\u001b[49m\u001b[38;5;241;43m.\u001b[39;49m\u001b[43mvalidate_python\u001b[49m\u001b[43m(\u001b[49m\u001b[43mdata\u001b[49m\u001b[43m,\u001b[49m\u001b[43m \u001b[49m\u001b[43mself_instance\u001b[49m\u001b[38;5;241;43m=\u001b[39;49m\u001b[38;5;28;43mself\u001b[39;49m\u001b[43m)\u001b[49m\n\u001b[1;32m    215\u001b[0m \u001b[38;5;28;01mif\u001b[39;00m \u001b[38;5;28mself\u001b[39m \u001b[38;5;129;01mis\u001b[39;00m \u001b[38;5;129;01mnot\u001b[39;00m validated_self:\n\u001b[1;32m    216\u001b[0m     warnings\u001b[38;5;241m.\u001b[39mwarn(\n\u001b[1;32m    217\u001b[0m         \u001b[38;5;124m'\u001b[39m\u001b[38;5;124mA custom validator is returning a value other than `self`.\u001b[39m\u001b[38;5;130;01m\\n\u001b[39;00m\u001b[38;5;124m'\u001b[39m\n\u001b[1;32m    218\u001b[0m         \u001b[38;5;124m\"\u001b[39m\u001b[38;5;124mReturning anything other than `self` from a top level model validator isn\u001b[39m\u001b[38;5;124m'\u001b[39m\u001b[38;5;124mt supported when validating via `__init__`.\u001b[39m\u001b[38;5;130;01m\\n\u001b[39;00m\u001b[38;5;124m\"\u001b[39m\n\u001b[1;32m    219\u001b[0m         \u001b[38;5;124m'\u001b[39m\u001b[38;5;124mSee the `model_validator` docs (https://docs.pydantic.dev/latest/concepts/validators/#model-validators) for more details.\u001b[39m\u001b[38;5;124m'\u001b[39m,\n\u001b[1;32m    220\u001b[0m         stacklevel\u001b[38;5;241m=\u001b[39m\u001b[38;5;241m2\u001b[39m,\n\u001b[1;32m    221\u001b[0m     )\n",
      "\u001b[0;31mValidationError\u001b[0m: 1 validation error for Task\nexpected_output\n  Field required [type=missing, input_value={'description': '分析...的市場調研助理)}, input_type=dict]\n    For further information visit https://errors.pydantic.dev/2.10/v/missing"
     ]
    }
   ],
   "source": [
    "#第一個AI員工\n",
    "researcher = Agent(\n",
    "    role = \"市場搜尋官\",\n",
    "    goal='搜索關於美食訊息',\n",
    "    backstory='你是一個經驗豐富的市場調研助理',\n",
    "    allow_delegation=True,\n",
    "    verbose=True\n",
    ")\n",
    "analyst = Agent(\n",
    "    role = \"市場分析員\",\n",
    "    goal='分析市面哪些美食最受歡迎',\n",
    "    backstory='你是一個專業市場分析員',\n",
    "    allow_delegation=False,\n",
    "    verbose=True\n",
    ")\n",
    "task1 = Task(\n",
    "    description = \"分析最新市場上最受歡迎的美食\",\n",
    "    agent = researcher\n",
    ")\n",
    "task2 = Task(\n",
    "    description = \"寫一份完美的市場分析，分析哪些美食最受歡迎.\",\n",
    "    agent = analyst\n",
    ")\n",
    "\n",
    "crew = Crew(\n",
    "    agents=[researcher,analyst],\n",
    "    task=[task1,task2],\n",
    "    process=Process.sequential,\n",
    "    verbose=2\n",
    ")\n",
    "result = crew.kickoff()"
   ]
  },
  {
   "cell_type": "code",
   "execution_count": null,
   "metadata": {},
   "outputs": [],
   "source": []
  }
 ],
 "metadata": {
  "kernelspec": {
   "display_name": "Python 3",
   "language": "python",
   "name": "python3"
  },
  "language_info": {
   "codemirror_mode": {
    "name": "ipython",
    "version": 3
   },
   "file_extension": ".py",
   "mimetype": "text/x-python",
   "name": "python",
   "nbconvert_exporter": "python",
   "pygments_lexer": "ipython3",
   "version": "3.10.16"
  }
 },
 "nbformat": 4,
 "nbformat_minor": 2
}
